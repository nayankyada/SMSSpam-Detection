{
  "nbformat": 4,
  "nbformat_minor": 0,
  "metadata": {
    "colab": {
      "name": "SpamDetection.ipynb",
      "provenance": [],
      "collapsed_sections": [],
      "machine_shape": "hm"
    },
    "kernelspec": {
      "name": "python3",
      "display_name": "Python 3"
    },
    "accelerator": "GPU"
  },
  "cells": [
    {
      "cell_type": "code",
      "metadata": {
        "id": "xsI_jTdZ70JJ",
        "colab_type": "code",
        "outputId": "f4a4005a-2b49-4509-e664-a66394fad1a0",
        "colab": {
          "base_uri": "https://localhost:8080/",
          "height": 122
        }
      },
      "source": [
        "from google.colab import drive\n",
        "drive.mount('/content/drive')"
      ],
      "execution_count": 1,
      "outputs": [
        {
          "output_type": "stream",
          "text": [
            "Go to this URL in a browser: https://accounts.google.com/o/oauth2/auth?client_id=947318989803-6bn6qk8qdgf4n4g3pfee6491hc0brc4i.apps.googleusercontent.com&redirect_uri=urn%3aietf%3awg%3aoauth%3a2.0%3aoob&response_type=code&scope=email%20https%3a%2f%2fwww.googleapis.com%2fauth%2fdocs.test%20https%3a%2f%2fwww.googleapis.com%2fauth%2fdrive%20https%3a%2f%2fwww.googleapis.com%2fauth%2fdrive.photos.readonly%20https%3a%2f%2fwww.googleapis.com%2fauth%2fpeopleapi.readonly\n",
            "\n",
            "Enter your authorization code:\n",
            "··········\n",
            "Mounted at /content/drive\n"
          ],
          "name": "stdout"
        }
      ]
    },
    {
      "cell_type": "code",
      "metadata": {
        "id": "8ifMj8S_4nhD",
        "colab_type": "code",
        "colab": {
          "base_uri": "https://localhost:8080/",
          "height": 80
        },
        "outputId": "87b91163-f01a-4baf-ad6f-fc2092c71a3a"
      },
      "source": [
        "import pandas as pd\n",
        "import numpy as np\n",
        "import string\n",
        "from sklearn.model_selection import train_test_split\n",
        "import seaborn as sns\n",
        "import matplotlib.pyplot as plt\n",
        "from gensim.models import Word2Vec\n",
        "from gensim.models import KeyedVectors\n",
        "from sklearn.feature_extraction.text import TfidfVectorizer\n",
        "from sklearn.ensemble import RandomForestClassifier\n",
        "from sklearn.model_selection import GridSearchCV\n",
        "from sklearn.metrics import accuracy_score,confusion_matrix\n",
        "from sklearn.preprocessing import LabelEncoder\n",
        "from keras.models import Model\n",
        "from keras.layers import LSTM, Activation, Dense, Dropout, Input, Embedding\n",
        "from keras.optimizers import RMSprop\n",
        "from keras.preprocessing.text import Tokenizer\n",
        "from keras.preprocessing import sequence\n",
        "from keras.utils import to_categorical\n",
        "from keras.callbacks import EarlyStopping\n",
        "from keras.models import Sequential"
      ],
      "execution_count": 2,
      "outputs": [
        {
          "output_type": "stream",
          "text": [
            "Using TensorFlow backend.\n"
          ],
          "name": "stderr"
        },
        {
          "output_type": "display_data",
          "data": {
            "text/html": [
              "<p style=\"color: red;\">\n",
              "The default version of TensorFlow in Colab will soon switch to TensorFlow 2.x.<br>\n",
              "We recommend you <a href=\"https://www.tensorflow.org/guide/migrate\" target=\"_blank\">upgrade</a> now \n",
              "or ensure your notebook will continue to use TensorFlow 1.x via the <code>%tensorflow_version 1.x</code> magic:\n",
              "<a href=\"https://colab.research.google.com/notebooks/tensorflow_version.ipynb\" target=\"_blank\">more info</a>.</p>\n"
            ],
            "text/plain": [
              "<IPython.core.display.HTML object>"
            ]
          },
          "metadata": {
            "tags": []
          }
        }
      ]
    },
    {
      "cell_type": "markdown",
      "metadata": {
        "id": "JIZCHyguszuA",
        "colab_type": "text"
      },
      "source": [
        "# Data Loading"
      ]
    },
    {
      "cell_type": "code",
      "metadata": {
        "id": "hzAehKFe8Adt",
        "colab_type": "code",
        "colab": {}
      },
      "source": [
        "data = pd.read_csv('/content/drive/My Drive/3_SPAM detection/a.csv')\n",
        "data = data[['v1','v2']] # v1-Classlabel,v2-Text"
      ],
      "execution_count": 0,
      "outputs": []
    },
    {
      "cell_type": "code",
      "metadata": {
        "id": "o_GeG-kD8KTo",
        "colab_type": "code",
        "outputId": "0efcd012-3126-4812-93dd-c717e8c9a689",
        "colab": {
          "base_uri": "https://localhost:8080/",
          "height": 170
        }
      },
      "source": [
        "print('No of DataPoint',data.shape[0])\n",
        "print('\\nNo of dataPoint for each class\\n',data['v1'].value_counts())\n",
        "total_datapoint = data.shape[0]\n",
        "ham_datapoint = data[data['v1'] == 'ham'].shape[0]\n",
        "spam_datapoint = data[data['v1'] == 'spam'].shape[0]\n",
        "print('\\nPercentage of ham datapoint is : ',ham_datapoint/total_datapoint * 100)\n",
        "print('Percentage of spam datapoint is : ',spam_datapoint/total_datapoint * 100)\n"
      ],
      "execution_count": 4,
      "outputs": [
        {
          "output_type": "stream",
          "text": [
            "No of DataPoint 5572\n",
            "\n",
            "No of dataPoint for each class\n",
            " ham     4825\n",
            "spam     747\n",
            "Name: v1, dtype: int64\n",
            "\n",
            "Percentage of ham datapoint is :  86.59368269921033\n",
            "Percentage of spam datapoint is :  13.406317300789663\n"
          ],
          "name": "stdout"
        }
      ]
    },
    {
      "cell_type": "code",
      "metadata": {
        "id": "fXmU5MpWs87G",
        "colab_type": "code",
        "outputId": "d6b6220f-3d4e-464d-e575-9c88a8aae772",
        "colab": {
          "base_uri": "https://localhost:8080/",
          "height": 204
        }
      },
      "source": [
        "data.head()"
      ],
      "execution_count": 5,
      "outputs": [
        {
          "output_type": "execute_result",
          "data": {
            "text/html": [
              "<div>\n",
              "<style scoped>\n",
              "    .dataframe tbody tr th:only-of-type {\n",
              "        vertical-align: middle;\n",
              "    }\n",
              "\n",
              "    .dataframe tbody tr th {\n",
              "        vertical-align: top;\n",
              "    }\n",
              "\n",
              "    .dataframe thead th {\n",
              "        text-align: right;\n",
              "    }\n",
              "</style>\n",
              "<table border=\"1\" class=\"dataframe\">\n",
              "  <thead>\n",
              "    <tr style=\"text-align: right;\">\n",
              "      <th></th>\n",
              "      <th>v1</th>\n",
              "      <th>v2</th>\n",
              "    </tr>\n",
              "  </thead>\n",
              "  <tbody>\n",
              "    <tr>\n",
              "      <th>0</th>\n",
              "      <td>ham</td>\n",
              "      <td>Go until jurong point, crazy.. Available only ...</td>\n",
              "    </tr>\n",
              "    <tr>\n",
              "      <th>1</th>\n",
              "      <td>ham</td>\n",
              "      <td>Ok lar... Joking wif u oni...</td>\n",
              "    </tr>\n",
              "    <tr>\n",
              "      <th>2</th>\n",
              "      <td>spam</td>\n",
              "      <td>Free entry in 2 a wkly comp to win FA Cup fina...</td>\n",
              "    </tr>\n",
              "    <tr>\n",
              "      <th>3</th>\n",
              "      <td>ham</td>\n",
              "      <td>U dun say so early hor... U c already then say...</td>\n",
              "    </tr>\n",
              "    <tr>\n",
              "      <th>4</th>\n",
              "      <td>ham</td>\n",
              "      <td>Nah I don't think he goes to usf, he lives aro...</td>\n",
              "    </tr>\n",
              "  </tbody>\n",
              "</table>\n",
              "</div>"
            ],
            "text/plain": [
              "     v1                                                 v2\n",
              "0   ham  Go until jurong point, crazy.. Available only ...\n",
              "1   ham                      Ok lar... Joking wif u oni...\n",
              "2  spam  Free entry in 2 a wkly comp to win FA Cup fina...\n",
              "3   ham  U dun say so early hor... U c already then say...\n",
              "4   ham  Nah I don't think he goes to usf, he lives aro..."
            ]
          },
          "metadata": {
            "tags": []
          },
          "execution_count": 5
        }
      ]
    },
    {
      "cell_type": "markdown",
      "metadata": {
        "id": "HhY5yLOFtmim",
        "colab_type": "text"
      },
      "source": [
        "# Basic EDA of Data"
      ]
    },
    {
      "cell_type": "code",
      "metadata": {
        "id": "dmXA-hf3utkr",
        "colab_type": "code",
        "outputId": "fca42624-4bc3-4959-b2e3-b524e95bb8df",
        "colab": {
          "base_uri": "https://localhost:8080/",
          "height": 297
        }
      },
      "source": [
        "# Count plot according classs label\n",
        "sns.countplot(data.v1)"
      ],
      "execution_count": 6,
      "outputs": [
        {
          "output_type": "execute_result",
          "data": {
            "text/plain": [
              "<matplotlib.axes._subplots.AxesSubplot at 0x7f7faf53f710>"
            ]
          },
          "metadata": {
            "tags": []
          },
          "execution_count": 6
        },
        {
          "output_type": "display_data",
          "data": {
            "image/png": "[encoded data removed]",
            "text/plain": [
              "<Figure size 432x288 with 1 Axes>"
            ]
          },
          "metadata": {
            "tags": []
          }
        }
      ]
    },
    {
      "cell_type": "markdown",
      "metadata": {
        "id": "tAq7ajfLuzak",
        "colab_type": "text"
      },
      "source": [
        "1. There are large no of ham text as compared  to spam text which leads to imbalance data sets."
      ]
    },
    {
      "cell_type": "code",
      "metadata": {
        "id": "eDmIBHsZm6aS",
        "colab_type": "code",
        "colab": {}
      },
      "source": [
        "# Count no od word in text\n",
        "def text_length(row):\n",
        "    return len(row.split(\" \"))\n",
        "data['text_length'] = data['v2'].apply(lambda row : text_length(row))"
      ],
      "execution_count": 0,
      "outputs": []
    },
    {
      "cell_type": "code",
      "metadata": {
        "id": "FkOSQk8buLJ2",
        "colab_type": "code",
        "outputId": "f4a266af-c51c-4a44-c713-349c6883fb2c",
        "colab": {
          "base_uri": "https://localhost:8080/",
          "height": 386
        }
      },
      "source": [
        "sns.FacetGrid(data,hue='v1',height=5).map(sns.distplot,'text_length').add_legend()"
      ],
      "execution_count": 8,
      "outputs": [
        {
          "output_type": "execute_result",
          "data": {
            "text/plain": [
              "<seaborn.axisgrid.FacetGrid at 0x7f7faefc1eb8>"
            ]
          },
          "metadata": {
            "tags": []
          },
          "execution_count": 8
        },
        {
          "output_type": "display_data",
          "data": {
            "image/png": "[encoded data removed]",
            "text/plain": [
              "<Figure size 423.25x360 with 1 Axes>"
            ]
          },
          "metadata": {
            "tags": []
          }
        }
      ]
    },
    {
      "cell_type": "markdown",
      "metadata": {
        "id": "NmIUAGDyudy7",
        "colab_type": "text"
      },
      "source": [
        "1. Spam text with large text length as compare to ham"
      ]
    },
    {
      "cell_type": "code",
      "metadata": {
        "id": "5SYqFm60wocp",
        "colab_type": "code",
        "outputId": "7a69b0e9-f820-461c-d350-4314323f5b56",
        "colab": {
          "base_uri": "https://localhost:8080/",
          "height": 34
        }
      },
      "source": [
        "#count punctuation percent in text\n",
        "print('Punctuation symbole are : ',string.punctuation)\n",
        "def punc_percent(row):\n",
        "    c = sum([1 for char in row if char in string.punctuation])\n",
        "    return (round(c/len(row),3)*100)\n",
        "data['punc%'] = data['v2'].apply(lambda x : punc_percent(x))"
      ],
      "execution_count": 9,
      "outputs": [
        {
          "output_type": "stream",
          "text": [
            "Punctuation symbole are :  !\"#$%&'()*+,-./:;<=>?@[\\]^_`{|}~\n"
          ],
          "name": "stdout"
        }
      ]
    },
    {
      "cell_type": "code",
      "metadata": {
        "id": "cNAGXdxnmfoQ",
        "colab_type": "code",
        "outputId": "c659caca-b83e-48e2-8981-7b93286e2d67",
        "colab": {
          "base_uri": "https://localhost:8080/",
          "height": 386
        }
      },
      "source": [
        "sns.FacetGrid(data,hue='v1',height=5).map(sns.distplot,'punc%').add_legend()"
      ],
      "execution_count": 10,
      "outputs": [
        {
          "output_type": "execute_result",
          "data": {
            "text/plain": [
              "<seaborn.axisgrid.FacetGrid at 0x7f7fab6af7f0>"
            ]
          },
          "metadata": {
            "tags": []
          },
          "execution_count": 10
        },
        {
          "output_type": "display_data",
          "data": {
            "image/png": "[encoded data removed]",
            "text/plain": [
              "<Figure size 423.25x360 with 1 Axes>"
            ]
          },
          "metadata": {
            "tags": []
          }
        }
      ]
    },
    {
      "cell_type": "markdown",
      "metadata": {
        "id": "_5fwbPyRyb-E",
        "colab_type": "text"
      },
      "source": [
        "1. punc% for spam text and ham text almost same but for some ham text punc% large compare to ham text\n",
        "2. PDF of spam text is high means most of spam text puc% are at 4-6"
      ]
    },
    {
      "cell_type": "markdown",
      "metadata": {
        "id": "lHgzkJLytB8G",
        "colab_type": "text"
      },
      "source": [
        "# Data Preprocessing"
      ]
    },
    {
      "cell_type": "markdown",
      "metadata": {
        "id": "Kwe92BSiTIFK",
        "colab_type": "text"
      },
      "source": [
        " <h4><b>1.1 Remove punctuation"
      ]
    },
    {
      "cell_type": "code",
      "metadata": {
        "id": "kZhi30kCFape",
        "colab_type": "code",
        "colab": {}
      },
      "source": [
        "def remove_punctu(row):\n",
        "    row_nonpunct = \"\".join([char for char in row if char not in string.punctuation])\n",
        "    return row_nonpunct"
      ],
      "execution_count": 0,
      "outputs": []
    },
    {
      "cell_type": "markdown",
      "metadata": {
        "id": "6-C1nuT9tes5",
        "colab_type": "text"
      },
      "source": [
        "<h4><b>1.2 Decontracted"
      ]
    },
    {
      "cell_type": "code",
      "metadata": {
        "id": "9OK7SOiPtkSd",
        "colab_type": "code",
        "colab": {}
      },
      "source": [
        "import re\n",
        "def decontracted(phrase):\n",
        "    phrase = re.sub(r\"won't\", \"will not\", phrase)\n",
        "    phrase = re.sub(r\"can\\'t\", \"can not\", phrase)\n",
        "    phrase = re.sub(r\"n\\'t\", \" not\", phrase)\n",
        "    phrase = re.sub(r\"\\'re\", \" are\", phrase)\n",
        "    phrase = re.sub(r\"\\'s\", \" is\", phrase)\n",
        "    phrase = re.sub(r\"\\'d\", \" would\", phrase)\n",
        "    phrase = re.sub(r\"\\'ll\", \" will\", phrase)\n",
        "    phrase = re.sub(r\"\\'t\", \" not\", phrase)\n",
        "    phrase = re.sub(r\"\\'ve\", \" have\", phrase)\n",
        "    phrase = re.sub(r\"\\'m\", \" am\", phrase)\n",
        "    return phrase"
      ],
      "execution_count": 0,
      "outputs": []
    },
    {
      "cell_type": "markdown",
      "metadata": {
        "id": "LS5_6mRAtyJ2",
        "colab_type": "text"
      },
      "source": [
        "<h4><b>1.3 Remove word with number"
      ]
    },
    {
      "cell_type": "code",
      "metadata": {
        "id": "0S1mgtuWt-Sv",
        "colab_type": "code",
        "colab": {}
      },
      "source": [
        "def remove_numword(row):\n",
        "    return re.sub(\"\\S*\\d\\S*\", \"\", row).strip()"
      ],
      "execution_count": 0,
      "outputs": []
    },
    {
      "cell_type": "markdown",
      "metadata": {
        "id": "tjUhZmx-uJF2",
        "colab_type": "text"
      },
      "source": [
        "<h4><b>1.4 Remove spacial character"
      ]
    },
    {
      "cell_type": "code",
      "metadata": {
        "id": "_IZ2CkOxuRwy",
        "colab_type": "code",
        "colab": {}
      },
      "source": [
        "def remove_special_char(row):\n",
        "    return re.sub('[^A-Za-z0-9]+', ' ', row)"
      ],
      "execution_count": 0,
      "outputs": []
    },
    {
      "cell_type": "markdown",
      "metadata": {
        "id": "dm-dfhrTug2A",
        "colab_type": "text"
      },
      "source": [
        "<h4><b>1.5 Remove stop word"
      ]
    },
    {
      "cell_type": "code",
      "metadata": {
        "id": "DNWUy5a9uq4w",
        "colab_type": "code",
        "outputId": "6db52175-a2e2-46b4-8e51-e8d9bc37cb92",
        "colab": {
          "base_uri": "https://localhost:8080/",
          "height": 122
        }
      },
      "source": [
        "import nltk\n",
        "nltk.download('stopwords')\n",
        "nltk.download('wordnet')\n",
        "from nltk.corpus import stopwords\n",
        "stopword = stopwords.words('english')\n",
        "print(stopword)\n",
        "def remove_stopword(row):\n",
        "    return(\" \".join([char for char in row.split(\" \") if char not in stopword]))"
      ],
      "execution_count": 15,
      "outputs": [
        {
          "output_type": "stream",
          "text": [
            "[nltk_data] Downloading package stopwords to /root/nltk_data...\n",
            "[nltk_data]   Unzipping corpora/stopwords.zip.\n",
            "[nltk_data] Downloading package wordnet to /root/nltk_data...\n",
            "[nltk_data]   Unzipping corpora/wordnet.zip.\n",
            "['i', 'me', 'my', 'myself', 'we', 'our', 'ours', 'ourselves', 'you', \"you're\", \"you've\", \"you'll\", \"you'd\", 'your', 'yours', 'yourself', 'yourselves', 'he', 'him', 'his', 'himself', 'she', \"she's\", 'her', 'hers', 'herself', 'it', \"it's\", 'its', 'itself', 'they', 'them', 'their', 'theirs', 'themselves', 'what', 'which', 'who', 'whom', 'this', 'that', \"that'll\", 'these', 'those', 'am', 'is', 'are', 'was', 'were', 'be', 'been', 'being', 'have', 'has', 'had', 'having', 'do', 'does', 'did', 'doing', 'a', 'an', 'the', 'and', 'but', 'if', 'or', 'because', 'as', 'until', 'while', 'of', 'at', 'by', 'for', 'with', 'about', 'against', 'between', 'into', 'through', 'during', 'before', 'after', 'above', 'below', 'to', 'from', 'up', 'down', 'in', 'out', 'on', 'off', 'over', 'under', 'again', 'further', 'then', 'once', 'here', 'there', 'when', 'where', 'why', 'how', 'all', 'any', 'both', 'each', 'few', 'more', 'most', 'other', 'some', 'such', 'no', 'nor', 'not', 'only', 'own', 'same', 'so', 'than', 'too', 'very', 's', 't', 'can', 'will', 'just', 'don', \"don't\", 'should', \"should've\", 'now', 'd', 'll', 'm', 'o', 're', 've', 'y', 'ain', 'aren', \"aren't\", 'couldn', \"couldn't\", 'didn', \"didn't\", 'doesn', \"doesn't\", 'hadn', \"hadn't\", 'hasn', \"hasn't\", 'haven', \"haven't\", 'isn', \"isn't\", 'ma', 'mightn', \"mightn't\", 'mustn', \"mustn't\", 'needn', \"needn't\", 'shan', \"shan't\", 'shouldn', \"shouldn't\", 'wasn', \"wasn't\", 'weren', \"weren't\", 'won', \"won't\", 'wouldn', \"wouldn't\"]\n"
          ],
          "name": "stdout"
        }
      ]
    },
    {
      "cell_type": "markdown",
      "metadata": {
        "id": "E5r6GziTu6TS",
        "colab_type": "text"
      },
      "source": [
        "<h1><b>Preprocessing"
      ]
    },
    {
      "cell_type": "code",
      "metadata": {
        "id": "YOFTa1_UvCqZ",
        "colab_type": "code",
        "colab": {}
      },
      "source": [
        "preprocessed_reviews = []\n",
        "for sentance in data['v2'].values:\n",
        "    sentance = remove_punctu(sentance)\n",
        "    sentance = decontracted(sentance)\n",
        "    sentance = remove_numword(sentance)\n",
        "    sentance = remove_special_char(sentance)\n",
        "    sentance = remove_stopword(sentance)\n",
        "    sentance = ' '.join(e.lower() for e in sentance.split())\n",
        "    preprocessed_reviews.append(sentance.strip())"
      ],
      "execution_count": 0,
      "outputs": []
    },
    {
      "cell_type": "code",
      "metadata": {
        "id": "vgbmXQ74wOBf",
        "colab_type": "code",
        "colab": {}
      },
      "source": [
        "i=0\n",
        "list_of_sentance=[]\n",
        "for sentance in preprocessed_reviews:\n",
        "    list_of_sentance.append(sentance.split())"
      ],
      "execution_count": 0,
      "outputs": []
    },
    {
      "cell_type": "markdown",
      "metadata": {
        "id": "STcwKMwnyBjg",
        "colab_type": "text"
      },
      "source": [
        "# Word2Vec model and prepare data for training and test"
      ]
    },
    {
      "cell_type": "code",
      "metadata": {
        "id": "ol6iDFVqx0m1",
        "colab_type": "code",
        "outputId": "2bdadaf3-db3d-4d99-d923-cf365881b4a5",
        "colab": {
          "base_uri": "https://localhost:8080/",
          "height": 71
        }
      },
      "source": [
        "# min_count = 5 considers only words that occured atleast 5 times\n",
        "# size=100 means it use top 100 words which are occured atleast 5 time\n",
        "w2v_model=Word2Vec(list_of_sentance,min_count=5,size=100, workers=4)\n",
        "w2v_words = list(w2v_model.wv.vocab)\n",
        "print(\"number of words that occured minimum 5 times \",len(w2v_words))\n",
        "print(\"sample words \", w2v_words[0:50])"
      ],
      "execution_count": 18,
      "outputs": [
        {
          "output_type": "stream",
          "text": [
            "number of words that occured minimum 5 times  1679\n",
            "sample words  ['go', 'point', 'crazy', 'available', 'bugis', 'n', 'great', 'world', 'la', 'e', 'cine', 'got', 'wat', 'ok', 'lar', 'joking', 'wif', 'u', 'free', 'entry', 'wkly', 'comp', 'win', 'cup', 'final', 'may', 'text', 'receive', 'txt', 'apply', 'dun', 'say', 'early', 'c', 'already', 'nah', 'i', 'dont', 'think', 'goes', 'usf', 'around', 'though', 'freemsg', 'hey', 'darling', 'weeks', 'word', 'back', 'id']\n"
          ],
          "name": "stdout"
        }
      ]
    },
    {
      "cell_type": "markdown",
      "metadata": {
        "id": "7Y_XZVM7iX-3",
        "colab_type": "text"
      },
      "source": [
        "tfidf = tf * idf\n",
        "1. tf = no of time word w_i in text t_j / total word in t_j\n",
        "2. idf = log(total text / no of text which contains word w_i)"
      ]
    },
    {
      "cell_type": "code",
      "metadata": {
        "id": "YKk5nJndx0h2",
        "colab_type": "code",
        "colab": {}
      },
      "source": [
        "model = TfidfVectorizer()\n",
        "tf_idf_matrix = model.fit_transform(preprocessed_reviews)\n",
        "# we are converting a dictionary with word as a key, and the idf as a value\n",
        "dictionary = dict(zip(model.get_feature_names(), list(model.idf_)))"
      ],
      "execution_count": 0,
      "outputs": []
    },
    {
      "cell_type": "code",
      "metadata": {
        "id": "DD7qo-Qfx0fh",
        "colab_type": "code",
        "colab": {}
      },
      "source": [
        "tfidf_feat = model.get_feature_names() # tfidf words/col-names\n",
        "tfidf_sent_vectors = []; # the tfidf-w2v for each sentence/review is stored in this list\n",
        "row=0;\n",
        "for sent in (list_of_sentance): # for each review/sentence \n",
        "    sent_vec = np.zeros(100) # as word vectors are of zero length\n",
        "    weight_sum =0; # num of words with a valid vector in the sentence/review\n",
        "    for word in sent: # for each word in a review/sentence\n",
        "        if word in w2v_words and word in tfidf_feat:\n",
        "            vec = w2v_model.wv[word]\n",
        "            tf_idf = (sent.count(word)/len(sent))*dictionary[word]\n",
        "            sent_vec += (vec * tf_idf)\n",
        "            weight_sum += tf_idf\n",
        "    if weight_sum != 0:\n",
        "        sent_vec /= weight_sum\n",
        "    tfidf_sent_vectors.append(sent_vec)\n",
        "    row += 1"
      ],
      "execution_count": 0,
      "outputs": []
    },
    {
      "cell_type": "code",
      "metadata": {
        "id": "lWNmz4ZIx0Ob",
        "colab_type": "code",
        "outputId": "7902db3b-5e41-4221-ea1e-b27fa4dc6be4",
        "colab": {
          "base_uri": "https://localhost:8080/",
          "height": 51
        }
      },
      "source": [
        "feature = np.array(tfidf_sent_vectors)\n",
        "print(feature.shape)\n",
        "feature=np.vstack((feature.T,np.array(data['text_length']).T)).T\n",
        "feature=np.vstack((feature.T,np.array(data['punc%']).T)).T\n",
        "print(feature.shape)"
      ],
      "execution_count": 21,
      "outputs": [
        {
          "output_type": "stream",
          "text": [
            "(5572, 100)\n",
            "(5572, 102)\n"
          ],
          "name": "stdout"
        }
      ]
    },
    {
      "cell_type": "code",
      "metadata": {
        "id": "Vse23LE23d3p",
        "colab_type": "code",
        "outputId": "de5c5063-9670-400c-b669-47e60cfa0477",
        "colab": {
          "base_uri": "https://localhost:8080/",
          "height": 221
        }
      },
      "source": [
        "x = feature\n",
        "y = data['v1']\n",
        "x_train,x_test,y_train,y_test = train_test_split(x,y,test_size=0.2)\n",
        "print('No of train data pioint : ',x_train.shape)\n",
        "print('No of test data pioint : ',x_test.shape)\n",
        "\n",
        "print('\\nNo of ham and spam datapoint in train data : \\n',y_train.value_counts())\n",
        "print('\\nNo of ham and spam datapoint in test data :  \\n',y_test.value_counts())\n"
      ],
      "execution_count": 22,
      "outputs": [
        {
          "output_type": "stream",
          "text": [
            "No of train data pioint :  (4457, 102)\n",
            "No of test data pioint :  (1115, 102)\n",
            "\n",
            "No of ham and spam datapoint in train data : \n",
            " ham     3844\n",
            "spam     613\n",
            "Name: v1, dtype: int64\n",
            "\n",
            "No of ham and spam datapoint in test data :  \n",
            " ham     981\n",
            "spam    134\n",
            "Name: v1, dtype: int64\n"
          ],
          "name": "stdout"
        }
      ]
    },
    {
      "cell_type": "markdown",
      "metadata": {
        "id": "Vepv60DS8CQR",
        "colab_type": "text"
      },
      "source": [
        "# ML : Logistic Regression"
      ]
    },
    {
      "cell_type": "code",
      "metadata": {
        "id": "efPdjMlU8BJ5",
        "colab_type": "code",
        "outputId": "4eea1dfa-bd06-4cef-8d08-8f5761857917",
        "colab": {
          "base_uri": "https://localhost:8080/",
          "height": 431
        }
      },
      "source": [
        "from sklearn.linear_model import LogisticRegression\n",
        "tuned_parameters =  [{'C': [10**-4, 10**-2, 10**0, 10**4]}]\n",
        "model = GridSearchCV(LogisticRegression(solver='liblinear'), tuned_parameters, scoring = 'accuracy', cv=10)\n",
        "model.fit(x_train, y_train)\n",
        "print(model.best_estimator_)\n",
        "print('Score : ',model.score(x_test, y_test))\n",
        "y_pred = model.predict(x_test)\n",
        "print(confusion_matrix(y_test,y_pred,labels=['ham','spam']))\n",
        "cm=confusion_matrix(y_test,y_pred,labels=['ham','spam'])\n",
        "ax= plt.subplot()\n",
        "sns.heatmap(cm, annot=True, ax = ax,); #annot=True to annotate cells\n",
        "\n",
        "# labels, title and ticks\n",
        "ax.set_xlabel('Predicted labels');\n",
        "ax.set_ylabel('True labels'); \n",
        "ax.set_title('Confusion Matrix'); \n",
        "ax.xaxis.set_ticklabels(['ham', 'spam']); \n",
        "ax.yaxis.set_ticklabels(['ham', 'spam']);"
      ],
      "execution_count": 24,
      "outputs": [
        {
          "output_type": "stream",
          "text": [
            "LogisticRegression(C=10000, class_weight=None, dual=False, fit_intercept=True,\n",
            "                   intercept_scaling=1, l1_ratio=None, max_iter=100,\n",
            "                   multi_class='auto', n_jobs=None, penalty='l2',\n",
            "                   random_state=None, solver='liblinear', tol=0.0001, verbose=0,\n",
            "                   warm_start=False)\n",
            "Score :  0.9542600896860987\n",
            "[[960  21]\n",
            " [ 30 104]]\n"
          ],
          "name": "stdout"
        },
        {
          "output_type": "display_data",
          "data": {
            "image/png": "[encoded data removed]",
            "text/plain": [
              "<Figure size 432x288 with 2 Axes>"
            ]
          },
          "metadata": {
            "tags": []
          }
        }
      ]
    },
    {
      "cell_type": "markdown",
      "metadata": {
        "id": "1bExYS8dob8_",
        "colab_type": "text"
      },
      "source": [
        "model perform best on ham as compare to spam duto lake of less no data point of spam text"
      ]
    },
    {
      "cell_type": "markdown",
      "metadata": {
        "id": "VUDPjFSV7BmS",
        "colab_type": "text"
      },
      "source": [
        "# ML : Random Forest"
      ]
    },
    {
      "cell_type": "code",
      "metadata": {
        "id": "cP5ZLkLn5hDQ",
        "colab_type": "code",
        "outputId": "bfecb5f2-3f58-45ce-fb14-60f4e751ea94",
        "colab": {
          "base_uri": "https://localhost:8080/",
          "height": 482
        }
      },
      "source": [
        "params = {'n_estimators':[20,45,80,100],'max_depth':[10,15,20]}\n",
        "clf = RandomForestClassifier()\n",
        "model = GridSearchCV(clf,params)\n",
        "history=model.fit(x_train,y_train)\n",
        "print(model.best_estimator_)\n",
        "print('Score : ',model.score(x_test, y_test))\n",
        "y_pred = model.predict(x_test)\n",
        "print(confusion_matrix(y_test,y_pred,labels=['ham','spam']))\n",
        "cm=confusion_matrix(y_test,y_pred,labels=['ham','spam'])\n",
        "ax= plt.subplot()\n",
        "sns.heatmap(cm, annot=True, ax = ax,); #annot=True to annotate cells\n",
        "\n",
        "# labels, title and ticks\n",
        "ax.set_xlabel('Predicted labels');\n",
        "ax.set_ylabel('True labels'); \n",
        "ax.set_title('Confusion Matrix'); \n",
        "ax.xaxis.set_ticklabels(['ham', 'spam']); \n",
        "ax.yaxis.set_ticklabels(['ham', 'spam']);"
      ],
      "execution_count": 26,
      "outputs": [
        {
          "output_type": "stream",
          "text": [
            "RandomForestClassifier(bootstrap=True, ccp_alpha=0.0, class_weight=None,\n",
            "                       criterion='gini', max_depth=15, max_features='auto',\n",
            "                       max_leaf_nodes=None, max_samples=None,\n",
            "                       min_impurity_decrease=0.0, min_impurity_split=None,\n",
            "                       min_samples_leaf=1, min_samples_split=2,\n",
            "                       min_weight_fraction_leaf=0.0, n_estimators=45,\n",
            "                       n_jobs=None, oob_score=False, random_state=None,\n",
            "                       verbose=0, warm_start=False)\n",
            "Score :  0.9721973094170404\n",
            "[[976   5]\n",
            " [ 26 108]]\n"
          ],
          "name": "stdout"
        },
        {
          "output_type": "display_data",
          "data": {
            "image/png": "[encoded data removed]",
            "text/plain": [
              "<Figure size 432x288 with 2 Axes>"
            ]
          },
          "metadata": {
            "tags": []
          }
        }
      ]
    },
    {
      "cell_type": "markdown",
      "metadata": {
        "id": "C5RfHp71pTrc",
        "colab_type": "text"
      },
      "source": [
        "Random forest perform best compare to Logistic Regression"
      ]
    },
    {
      "cell_type": "markdown",
      "metadata": {
        "id": "OsGoTuZ6MJHA",
        "colab_type": "text"
      },
      "source": [
        "# Deep Learning - LSTM"
      ]
    },
    {
      "cell_type": "code",
      "metadata": {
        "id": "qFwcZ7a4Mw4b",
        "colab_type": "code",
        "colab": {}
      },
      "source": [
        "from sklearn.preprocessing import LabelEncoder # to encode class label name in 0 to no of class"
      ],
      "execution_count": 0,
      "outputs": []
    },
    {
      "cell_type": "code",
      "metadata": {
        "id": "6nbcqONCMXDf",
        "colab_type": "code",
        "colab": {}
      },
      "source": [
        "text = data['v2']\n",
        "label = data['v1']\n",
        "le = LabelEncoder()\n",
        "label = le.fit_transform(label)\n",
        "label = label.reshape(-1,1)"
      ],
      "execution_count": 0,
      "outputs": []
    },
    {
      "cell_type": "markdown",
      "metadata": {
        "id": "ImS_l7Uamzn6",
        "colab_type": "text"
      },
      "source": [
        "Here we train data based on batch size and each text are of different length so we need to make all text of same lenth because all text in batch should be same laength so we need to do some padding sequence"
      ]
    },
    {
      "cell_type": "code",
      "metadata": {
        "id": "xMDnA9EbNEbc",
        "colab_type": "code",
        "outputId": "6c5535bb-1009-494b-a882-579faa44ef71",
        "colab": {
          "base_uri": "https://localhost:8080/",
          "height": 207
        }
      },
      "source": [
        "max_words = 1000  # like vocabulary size\n",
        "max_len = 150\n",
        "tok = Tokenizer(num_words=max_words) # num_word define number of word to be consider based on word frequency\n",
        "                                     # so it consider mostly occured 1000 words and create dictionary of word \n",
        "tok.fit_on_texts(text) # takes data courpus and create dictionary of word \n",
        "sequences = tok.texts_to_sequences(text) # now it replace each word with dictionary word index\n",
        "print(sequences[0:5])\n",
        "sequences_matrix = sequence.pad_sequences(sequences,maxlen=max_len) #it convert each sms of same length because here each sms length are different\n",
        "print(sequences_matrix[0])  \n",
        "X_train,X_test,Y_train,Y_test = train_test_split(sequences_matrix,label,test_size=0.15)\n"
      ],
      "execution_count": 29,
      "outputs": [
        {
          "output_type": "stream",
          "text": [
            "[[50, 468, 835, 749, 656, 65, 8, 91, 120, 350, 147, 67, 58, 144], [46, 337, 469, 6], [47, 485, 8, 19, 4, 792, 893, 2, 177, 657, 265, 71, 2, 2, 338, 485, 553, 950, 73, 388, 181, 658, 389], [6, 243, 152, 23, 379, 6, 140, 154, 57, 152], [1, 99, 108, 69, 486, 2, 951, 69, 217, 112, 470]]\n",
            "[  0   0   0   0   0   0   0   0   0   0   0   0   0   0   0   0   0   0\n",
            "   0   0   0   0   0   0   0   0   0   0   0   0   0   0   0   0   0   0\n",
            "   0   0   0   0   0   0   0   0   0   0   0   0   0   0   0   0   0   0\n",
            "   0   0   0   0   0   0   0   0   0   0   0   0   0   0   0   0   0   0\n",
            "   0   0   0   0   0   0   0   0   0   0   0   0   0   0   0   0   0   0\n",
            "   0   0   0   0   0   0   0   0   0   0   0   0   0   0   0   0   0   0\n",
            "   0   0   0   0   0   0   0   0   0   0   0   0   0   0   0   0   0   0\n",
            "   0   0   0   0   0   0   0   0   0   0  50 468 835 749 656  65   8  91\n",
            " 120 350 147  67  58 144]\n"
          ],
          "name": "stdout"
        }
      ]
    },
    {
      "cell_type": "code",
      "metadata": {
        "id": "F3bnpETFRFCN",
        "colab_type": "code",
        "outputId": "ea76d66a-7424-4415-d6d1-34f8a6e97b6c",
        "colab": {
          "base_uri": "https://localhost:8080/",
          "height": 989
        }
      },
      "source": [
        "batch_size=512\n",
        "model = Sequential()\n",
        "model.add(Embedding(max_words,60,input_length=max_len)) # 60 define output dim\n",
        "                                                      # maxwords define the largest integer (i.e. word index) in the input should be\n",
        "                                                      # no larger than 999 (vocabulary size)\n",
        "model.add(LSTM(100))\n",
        "model.add(Dense(256,activation='relu'))\n",
        "model.add(Dropout(0.5))\n",
        "model.add(Dense(1,activation='sigmoid'))\n",
        "model.compile(loss='binary_crossentropy',optimizer=RMSprop(),metrics=['accuracy'])\n",
        "model.fit(X_train,Y_train,batch_size=512,epochs=10,validation_split=0.2)"
      ],
      "execution_count": 30,
      "outputs": [
        {
          "output_type": "stream",
          "text": [
            "WARNING:tensorflow:From /usr/local/lib/python3.6/dist-packages/keras/backend/tensorflow_backend.py:66: The name tf.get_default_graph is deprecated. Please use tf.compat.v1.get_default_graph instead.\n",
            "\n",
            "WARNING:tensorflow:From /usr/local/lib/python3.6/dist-packages/keras/backend/tensorflow_backend.py:541: The name tf.placeholder is deprecated. Please use tf.compat.v1.placeholder instead.\n",
            "\n",
            "WARNING:tensorflow:From /usr/local/lib/python3.6/dist-packages/keras/backend/tensorflow_backend.py:4432: The name tf.random_uniform is deprecated. Please use tf.random.uniform instead.\n",
            "\n",
            "WARNING:tensorflow:From /usr/local/lib/python3.6/dist-packages/keras/backend/tensorflow_backend.py:148: The name tf.placeholder_with_default is deprecated. Please use tf.compat.v1.placeholder_with_default instead.\n",
            "\n",
            "WARNING:tensorflow:From /usr/local/lib/python3.6/dist-packages/keras/backend/tensorflow_backend.py:3733: calling dropout (from tensorflow.python.ops.nn_ops) with keep_prob is deprecated and will be removed in a future version.\n",
            "Instructions for updating:\n",
            "Please use `rate` instead of `keep_prob`. Rate should be set to `rate = 1 - keep_prob`.\n",
            "WARNING:tensorflow:From /usr/local/lib/python3.6/dist-packages/keras/optimizers.py:793: The name tf.train.Optimizer is deprecated. Please use tf.compat.v1.train.Optimizer instead.\n",
            "\n",
            "WARNING:tensorflow:From /usr/local/lib/python3.6/dist-packages/keras/backend/tensorflow_backend.py:3657: The name tf.log is deprecated. Please use tf.math.log instead.\n",
            "\n",
            "WARNING:tensorflow:From /usr/local/lib/python3.6/dist-packages/tensorflow_core/python/ops/nn_impl.py:183: where (from tensorflow.python.ops.array_ops) is deprecated and will be removed in a future version.\n",
            "Instructions for updating:\n",
            "Use tf.where in 2.0, which has the same broadcast rule as np.where\n",
            "WARNING:tensorflow:From /usr/local/lib/python3.6/dist-packages/keras/backend/tensorflow_backend.py:1033: The name tf.assign_add is deprecated. Please use tf.compat.v1.assign_add instead.\n",
            "\n",
            "WARNING:tensorflow:From /usr/local/lib/python3.6/dist-packages/keras/backend/tensorflow_backend.py:1020: The name tf.assign is deprecated. Please use tf.compat.v1.assign instead.\n",
            "\n",
            "WARNING:tensorflow:From /usr/local/lib/python3.6/dist-packages/keras/backend/tensorflow_backend.py:3005: The name tf.Session is deprecated. Please use tf.compat.v1.Session instead.\n",
            "\n",
            "Train on 3788 samples, validate on 948 samples\n",
            "Epoch 1/10\n",
            "WARNING:tensorflow:From /usr/local/lib/python3.6/dist-packages/keras/backend/tensorflow_backend.py:190: The name tf.get_default_session is deprecated. Please use tf.compat.v1.get_default_session instead.\n",
            "\n",
            "WARNING:tensorflow:From /usr/local/lib/python3.6/dist-packages/keras/backend/tensorflow_backend.py:197: The name tf.ConfigProto is deprecated. Please use tf.compat.v1.ConfigProto instead.\n",
            "\n",
            "WARNING:tensorflow:From /usr/local/lib/python3.6/dist-packages/keras/backend/tensorflow_backend.py:207: The name tf.global_variables is deprecated. Please use tf.compat.v1.global_variables instead.\n",
            "\n",
            "WARNING:tensorflow:From /usr/local/lib/python3.6/dist-packages/keras/backend/tensorflow_backend.py:216: The name tf.is_variable_initialized is deprecated. Please use tf.compat.v1.is_variable_initialized instead.\n",
            "\n",
            "WARNING:tensorflow:From /usr/local/lib/python3.6/dist-packages/keras/backend/tensorflow_backend.py:223: The name tf.variables_initializer is deprecated. Please use tf.compat.v1.variables_initializer instead.\n",
            "\n",
            "3788/3788 [==============================] - 12s 3ms/step - loss: 0.5515 - acc: 0.8115 - val_loss: 0.3491 - val_acc: 0.8597\n",
            "Epoch 2/10\n",
            "3788/3788 [==============================] - 2s 490us/step - loss: 0.3073 - acc: 0.8638 - val_loss: 0.2530 - val_acc: 0.8608\n",
            "Epoch 3/10\n",
            "3788/3788 [==============================] - 2s 487us/step - loss: 0.2045 - acc: 0.9248 - val_loss: 0.1661 - val_acc: 0.9483\n",
            "Epoch 4/10\n",
            "3788/3788 [==============================] - 2s 493us/step - loss: 0.1200 - acc: 0.9720 - val_loss: 0.1127 - val_acc: 0.9673\n",
            "Epoch 5/10\n",
            "3788/3788 [==============================] - 2s 487us/step - loss: 0.0690 - acc: 0.9831 - val_loss: 0.0829 - val_acc: 0.9800\n",
            "Epoch 6/10\n",
            "3788/3788 [==============================] - 2s 493us/step - loss: 0.0508 - acc: 0.9855 - val_loss: 0.0584 - val_acc: 0.9842\n",
            "Epoch 7/10\n",
            "3788/3788 [==============================] - 2s 510us/step - loss: 0.0451 - acc: 0.9892 - val_loss: 0.0592 - val_acc: 0.9800\n",
            "Epoch 8/10\n",
            "3788/3788 [==============================] - 2s 506us/step - loss: 0.0323 - acc: 0.9918 - val_loss: 0.0937 - val_acc: 0.9768\n",
            "Epoch 9/10\n",
            "3788/3788 [==============================] - 2s 488us/step - loss: 0.0315 - acc: 0.9923 - val_loss: 0.0550 - val_acc: 0.9831\n",
            "Epoch 10/10\n",
            "3788/3788 [==============================] - 2s 492us/step - loss: 0.0214 - acc: 0.9947 - val_loss: 0.0802 - val_acc: 0.9778\n"
          ],
          "name": "stdout"
        },
        {
          "output_type": "execute_result",
          "data": {
            "text/plain": [
              "<keras.callbacks.History at 0x7f7fa3af4fd0>"
            ]
          },
          "metadata": {
            "tags": []
          },
          "execution_count": 30
        }
      ]
    },
    {
      "cell_type": "code",
      "metadata": {
        "id": "V81_7KLXWQhQ",
        "colab_type": "code",
        "outputId": "e536e578-7b9d-4373-ec54-1d7b678cf67f",
        "colab": {
          "base_uri": "https://localhost:8080/",
          "height": 363
        }
      },
      "source": [
        "print(model.evaluate(X_test,Y_test))\n",
        "Y_pred = model.predict_classes(X_test)\n",
        "print(confusion_matrix(Y_test,Y_pred))\n",
        "cm=confusion_matrix(Y_test,Y_pred)\n",
        "ax= plt.subplot()\n",
        "sns.heatmap(cm, annot=True, ax = ax,); #annot=True to annotate cells\n",
        "\n",
        "# labels, title and ticks\n",
        "ax.set_xlabel('Predicted labels');\n",
        "ax.set_ylabel('True labels'); \n",
        "ax.set_title('Confusion Matrix'); \n",
        "ax.xaxis.set_ticklabels(['ham', 'spam']); \n",
        "ax.yaxis.set_ticklabels(['ham', 'spam']);"
      ],
      "execution_count": 31,
      "outputs": [
        {
          "output_type": "stream",
          "text": [
            "836/836 [==============================] - 2s 2ms/step\n",
            "[0.0314091853460444, 0.9940191387559809]\n",
            "[[739   1]\n",
            " [  4  92]]\n"
          ],
          "name": "stdout"
        },
        {
          "output_type": "display_data",
          "data": {
            "image/png": "[encoded data removed]",
            "text/plain": [
              "<Figure size 432x288 with 2 Axes>"
            ]
          },
          "metadata": {
            "tags": []
          }
        }
      ]
    },
    {
      "cell_type": "markdown",
      "metadata": {
        "id": "Q0A_xlYxtgkh",
        "colab_type": "text"
      },
      "source": [
        "LSTM perform best compare to Random Forest"
      ]
    },
    {
      "cell_type": "markdown",
      "metadata": {
        "id": "-18RM9jrnxp8",
        "colab_type": "text"
      },
      "source": [
        "# Conclusion\n",
        "1. LogisticRegression gives 96.41% accuracy on test data\n",
        "2. RandomForest gives 97.57% accuracy on test data\n",
        "3. LSTM deep learning gives 99.40% accuracy on test data"
      ]
    }
  ]
}